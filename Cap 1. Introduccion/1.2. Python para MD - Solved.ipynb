{
 "cells": [
  {
   "cell_type": "markdown",
   "metadata": {},
   "source": [
    "<h2><font color=\"#004D7F\" size=6>Módulo 1. Introducción</font></h2>\n",
    "\n",
    "\n",
    "\n",
    "<h1><font color=\"#004D7F\" size=5>2. Python para Modelado Predictivo</font></h1>\n",
    "\n",
    "<br><br>\n",
    "<div style=\"text-align: right\">\n",
    "<font color=\"#004D7F\" size=3>Manuel Castillo-Cara</font><br>\n",
    "<font color=\"#004D7F\" size=3>Machine Learning con Python</font><br>"
   ]
  },
  {
   "cell_type": "markdown",
   "metadata": {},
   "source": [
    "---\n",
    "\n",
    "<h2><font color=\"#004D7F\" size=5>Índice</font></h2>\n",
    "<a id=\"indice\"></a>\n",
    "\n",
    "* [1. Introducción](#section1)\n",
    "    * [1.1. Paquetes](#section11)\n",
    "    * [1.1. Importar librerías](#section12)"
   ]
  },
  {
   "cell_type": "code",
   "execution_count": null,
   "metadata": {},
   "outputs": [],
   "source": [
    "# Permite ajustar la anchura de la parte útil de la libreta (reduce los márgenes)\n",
    "from IPython.core.display import display, HTML\n",
    "display(HTML(\"<style>.container{ width:98% }</style>\"))"
   ]
  },
  {
   "cell_type": "markdown",
   "metadata": {},
   "source": [
    "---\n",
    "\n",
    "<a id=\"section1\"></a>\n",
    "# <font color=\"#004D7F\"> 1. Introducción</font>"
   ]
  },
  {
   "cell_type": "markdown",
   "metadata": {},
   "source": [
    "El ecosistema de Python está creciendo y puede convertirse en la plataforma dominante para el aprendizaje automático. La razón principal para adoptar Python para el aprendizaje automático es porque es un lenguaje de programación de propósito general que puede usar tanto para I+D como para producción. En esta sección descubrirá el ecosistema de Python para el aprendizaje automático."
   ]
  },
  {
   "cell_type": "markdown",
   "metadata": {},
   "source": [
    "<a id=\"section11\"></a>\n",
    "## <font color=\"#004D7F\"> 1.1. Paquetes</font>"
   ]
  },
  {
   "cell_type": "markdown",
   "metadata": {},
   "source": [
    "Los paquetes o librerías son la forma en que se distribuye el código Python de terceros. Estos paquetes pueden descargarse e instalar en nuestro entorno de Jupyter Notebook con la función `!pip install Package`. En los ejemplo siguientes se instalarán las cuatros más importantes que usaremos."
   ]
  },
  {
   "cell_type": "code",
   "execution_count": 1,
   "metadata": {
    "collapsed": true
   },
   "outputs": [
    {
     "name": "stdout",
     "output_type": "stream",
     "text": [
      "Requirement already satisfied: matplotlib in /home/manwest/Documentos/Jupyter/enviroment/lib/python3.6/site-packages (3.1.2)\n",
      "Requirement already satisfied: numpy>=1.11 in /home/manwest/Documentos/Jupyter/enviroment/lib/python3.6/site-packages (from matplotlib) (1.18.0)\n",
      "Requirement already satisfied: cycler>=0.10 in /home/manwest/Documentos/Jupyter/enviroment/lib/python3.6/site-packages (from matplotlib) (0.10.0)\n",
      "Requirement already satisfied: pyparsing!=2.0.4,!=2.1.2,!=2.1.6,>=2.0.1 in /home/manwest/Documentos/Jupyter/enviroment/lib/python3.6/site-packages (from matplotlib) (2.4.5)\n",
      "Requirement already satisfied: python-dateutil>=2.1 in /home/manwest/Documentos/Jupyter/enviroment/lib/python3.6/site-packages (from matplotlib) (2.8.1)\n",
      "Requirement already satisfied: kiwisolver>=1.0.1 in /home/manwest/Documentos/Jupyter/enviroment/lib/python3.6/site-packages (from matplotlib) (1.1.0)\n",
      "Requirement already satisfied: six in /home/manwest/Documentos/Jupyter/enviroment/lib/python3.6/site-packages (from cycler>=0.10->matplotlib) (1.13.0)\n",
      "Requirement already satisfied: setuptools in /home/manwest/Documentos/Jupyter/enviroment/lib/python3.6/site-packages (from kiwisolver>=1.0.1->matplotlib) (42.0.2)\n"
     ]
    }
   ],
   "source": [
    "!pip install matplotlib"
   ]
  },
  {
   "cell_type": "code",
   "execution_count": null,
   "metadata": {},
   "outputs": [],
   "source": [
    "!pip install scikit-learn"
   ]
  },
  {
   "cell_type": "code",
   "execution_count": null,
   "metadata": {},
   "outputs": [],
   "source": [
    "!pip install numpy"
   ]
  },
  {
   "cell_type": "code",
   "execution_count": null,
   "metadata": {},
   "outputs": [],
   "source": [
    "!pip install pandas"
   ]
  },
  {
   "cell_type": "markdown",
   "metadata": {},
   "source": [
    "<a id=\"section12\"></a>\n",
    "## <font color=\"#004D7F\"> 1.2. Importar librerías</font>"
   ]
  },
  {
   "cell_type": "markdown",
   "metadata": {},
   "source": [
    "Se recomienda utilizar siempre `import Library as Acrominm` ya que hay veces que las funciones con mismo nombre se encuentran en diferentes librerías y sin indicar la librería puede llevar a problemas en el código. Vamos a importar la librería Pandas y descargar un dataset."
   ]
  },
  {
   "cell_type": "code",
   "execution_count": 2,
   "metadata": {
    "scrolled": true
   },
   "outputs": [
    {
     "name": "stdout",
     "output_type": "stream",
     "text": [
      "      0      1      2      3       4       5       6       7   8\n",
      "0     M  0.455  0.365  0.095  0.5140  0.2245  0.1010  0.1500  15\n",
      "1     M  0.350  0.265  0.090  0.2255  0.0995  0.0485  0.0700   7\n",
      "2     F  0.530  0.420  0.135  0.6770  0.2565  0.1415  0.2100   9\n",
      "3     M  0.440  0.365  0.125  0.5160  0.2155  0.1140  0.1550  10\n",
      "4     I  0.330  0.255  0.080  0.2050  0.0895  0.0395  0.0550   7\n",
      "...  ..    ...    ...    ...     ...     ...     ...     ...  ..\n",
      "4172  F  0.565  0.450  0.165  0.8870  0.3700  0.2390  0.2490  11\n",
      "4173  M  0.590  0.440  0.135  0.9660  0.4390  0.2145  0.2605  10\n",
      "4174  M  0.600  0.475  0.205  1.1760  0.5255  0.2875  0.3080   9\n",
      "4175  F  0.625  0.485  0.150  1.0945  0.5310  0.2610  0.2960  10\n",
      "4176  M  0.710  0.555  0.195  1.9485  0.9455  0.3765  0.4950  12\n",
      "\n",
      "[4177 rows x 9 columns]\n"
     ]
    }
   ],
   "source": [
    "import pandas as pd\n",
    "# load dataset\n",
    "url = 'https://archive.ics.uci.edu/ml/machine-learning-databases/abalone/abalone.data'\n",
    "dataframe = pd.read_csv(url, header=None)\n",
    "print(dataframe)"
   ]
  },
  {
   "cell_type": "markdown",
   "metadata": {},
   "source": [
    "<div style=\"text-align: right\"> <font size=5>\n",
    "    <a href=\"#indice\"><i class=\"fa fa-arrow-circle-up\" aria-hidden=\"true\" style=\"color:#004D7F\"></i></a>\n",
    "</font></div>\n",
    "\n",
    "---\n",
    "\n",
    "<div style=\"text-align: right\"> <font size=6><i class=\"fa fa-coffee\" aria-hidden=\"true\" style=\"color:#004D7F\"></i> </font></div>"
   ]
  }
 ],
 "metadata": {
  "kernelspec": {
   "display_name": "Python 3",
   "language": "python",
   "name": "python3"
  },
  "language_info": {
   "codemirror_mode": {
    "name": "ipython",
    "version": 3
   },
   "file_extension": ".py",
   "mimetype": "text/x-python",
   "name": "python",
   "nbconvert_exporter": "python",
   "pygments_lexer": "ipython3",
   "version": "3.6.9"
  }
 },
 "nbformat": 4,
 "nbformat_minor": 2
}
